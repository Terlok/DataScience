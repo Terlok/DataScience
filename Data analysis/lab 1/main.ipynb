{
 "cells": [
  {
   "cell_type": "code",
   "execution_count": 16,
   "metadata": {},
   "outputs": [],
   "source": [
    "import shutil\n",
    "import kagglehub\n",
    "import numpy as np\n",
    "import pandas as pd\n",
    "from statsmodels.tsa.arima_process import ArmaProcess"
   ]
  },
  {
   "cell_type": "markdown",
   "metadata": {},
   "source": [
    "### About Dataset"
   ]
  },
  {
   "cell_type": "markdown",
   "metadata": {},
   "source": [
    "**Context**\n",
    "\n",
    "Bitcoin is the longest running and most well known cryptocurrency, first released as open source in 2009 by the anonymous Satoshi Nakamoto. Bitcoin serves as a decentralized medium of digital exchange, with transactions verified and recorded in a public distributed ledger (the blockchain) without the need for a trusted record keeping authority or central intermediary. Transaction blocks contain a SHA-256 cryptographic hash of previous transaction blocks, and are thus \"chained\" together, serving as an immutable record of all transactions that have ever occurred. As with any currency/commodity on the market, bitcoin trading and financial instruments soon followed public adoption of bitcoin and continue to grow. Included here is historical bitcoin market data at 1-min intervals for select bitcoin exchanges where trading takes place. Happy (data) mining! \n",
    "\n",
    "Content\n",
    "([See](https://github.com/mczielinski/kaggle-bitcoin/) for automation/scraping script) \\\n",
    "**btcusd_1-min_data.csv**\n",
    "\n",
    "CSV files for select bitcoin exchanges for the time period of Jan 2012 to Present (Measured by UTC day), with minute to minute updates of OHLC (Open, High, Low, Close) and Volume in BTC.\n",
    "\n",
    "If a timestamp is missing, or if there are jumps, this may be because the exchange (or its API) was down, the exchange (or its API) did not exist, or some other unforeseen technical error in data reporting or gathering. I'm not perfect, and I'm also busy! All effort has been made to deduplicate entries and verify the contents are correct and complete to the best of my ability, but obviously trust at your own risk.\n",
    "Acknowledgements and Inspiration\n",
    "\n",
    "Bitcoin charts for the data, originally. Now thank you to the Bitstamp API directly. The various exchange APIs, for making it difficult or unintuitive enough to get OHLC and volume data at 1-min intervals that I set out on this data scraping project. Satoshi Nakamoto and the novel core concept of the blockchain, as well as its first execution via the bitcoin protocol. I'd also like to thank viewers like you! Can't wait to see what code or insights you all have to share. \n",
    "\n",
    "[DatasetLink](https://www.kaggle.com/datasets/mczielinski/bitcoin-historical-data)"
   ]
  },
  {
   "cell_type": "markdown",
   "metadata": {},
   "source": [
    "Column Descriptions\n",
    "| Column Name               | Description                                           |\n",
    "|---------------------------|-------------------------------------------------------|\n",
    "| Timestamp \t            | Start time of time window (60s window), in Unix time  |\n",
    "| Open \t                    | Open price at start time window                       |\n",
    "| High       \t            | High price at start time window                       |\n",
    "| Low            \t        | Low price at start time window                        |     \n",
    "| Close              \t    | Close price at start time window                      |\n",
    "| Volume \t                | Volume of BTC transacted in this window               |\n",
    "| datetime \t                | date & time                                           |"
   ]
  },
  {
   "cell_type": "code",
   "execution_count": 8,
   "metadata": {},
   "outputs": [
    {
     "name": "stdout",
     "output_type": "stream",
     "text": [
      "Downloading from https://www.kaggle.com/api/v1/datasets/download/mczielinski/bitcoin-historical-data?dataset_version_number=185...\n"
     ]
    },
    {
     "name": "stderr",
     "output_type": "stream",
     "text": [
      "100%|██████████| 112M/112M [00:11<00:00, 10.6MB/s] "
     ]
    },
    {
     "name": "stdout",
     "output_type": "stream",
     "text": [
      "Extracting files...\n"
     ]
    },
    {
     "name": "stderr",
     "output_type": "stream",
     "text": [
      "\n"
     ]
    },
    {
     "name": "stdout",
     "output_type": "stream",
     "text": [
      "Path to dataset files: /home/alex/.cache/kagglehub/datasets/mczielinski/bitcoin-historical-data/versions/185\n"
     ]
    }
   ],
   "source": [
    "# Download latest version\n",
    "path = kagglehub.dataset_download(\"mczielinski/bitcoin-historical-data\")\n",
    "\n",
    "print(\"Path to dataset files:\", path)"
   ]
  },
  {
   "cell_type": "code",
   "execution_count": null,
   "metadata": {},
   "outputs": [],
   "source": [
    "full_path = f'{path}/btcusd_1-min_data.csv'"
   ]
  },
  {
   "cell_type": "code",
   "execution_count": null,
   "metadata": {},
   "outputs": [
    {
     "data": {
      "text/plain": [
       "'./btcusd_1-min_data.csv'"
      ]
     },
     "execution_count": 18,
     "metadata": {},
     "output_type": "execute_result"
    }
   ],
   "source": [
    "shutil.copy(full_path, './')"
   ]
  },
  {
   "cell_type": "code",
   "execution_count": 3,
   "metadata": {},
   "outputs": [
    {
     "data": {
      "text/html": [
       "<div>\n",
       "<style scoped>\n",
       "    .dataframe tbody tr th:only-of-type {\n",
       "        vertical-align: middle;\n",
       "    }\n",
       "\n",
       "    .dataframe tbody tr th {\n",
       "        vertical-align: top;\n",
       "    }\n",
       "\n",
       "    .dataframe thead th {\n",
       "        text-align: right;\n",
       "    }\n",
       "</style>\n",
       "<table border=\"1\" class=\"dataframe\">\n",
       "  <thead>\n",
       "    <tr style=\"text-align: right;\">\n",
       "      <th></th>\n",
       "      <th>Timestamp</th>\n",
       "      <th>Open</th>\n",
       "      <th>High</th>\n",
       "      <th>Low</th>\n",
       "      <th>Close</th>\n",
       "      <th>Volume</th>\n",
       "      <th>datetime</th>\n",
       "    </tr>\n",
       "  </thead>\n",
       "  <tbody>\n",
       "    <tr>\n",
       "      <th>0</th>\n",
       "      <td>1.325412e+09</td>\n",
       "      <td>4.58</td>\n",
       "      <td>4.58</td>\n",
       "      <td>4.58</td>\n",
       "      <td>4.58</td>\n",
       "      <td>0.0</td>\n",
       "      <td>2012-01-01 10:01:00+00:00</td>\n",
       "    </tr>\n",
       "    <tr>\n",
       "      <th>1</th>\n",
       "      <td>1.325412e+09</td>\n",
       "      <td>4.58</td>\n",
       "      <td>4.58</td>\n",
       "      <td>4.58</td>\n",
       "      <td>4.58</td>\n",
       "      <td>0.0</td>\n",
       "      <td>2012-01-01 10:02:00+00:00</td>\n",
       "    </tr>\n",
       "    <tr>\n",
       "      <th>2</th>\n",
       "      <td>1.325412e+09</td>\n",
       "      <td>4.58</td>\n",
       "      <td>4.58</td>\n",
       "      <td>4.58</td>\n",
       "      <td>4.58</td>\n",
       "      <td>0.0</td>\n",
       "      <td>2012-01-01 10:03:00+00:00</td>\n",
       "    </tr>\n",
       "    <tr>\n",
       "      <th>3</th>\n",
       "      <td>1.325412e+09</td>\n",
       "      <td>4.58</td>\n",
       "      <td>4.58</td>\n",
       "      <td>4.58</td>\n",
       "      <td>4.58</td>\n",
       "      <td>0.0</td>\n",
       "      <td>2012-01-01 10:04:00+00:00</td>\n",
       "    </tr>\n",
       "    <tr>\n",
       "      <th>4</th>\n",
       "      <td>1.325412e+09</td>\n",
       "      <td>4.58</td>\n",
       "      <td>4.58</td>\n",
       "      <td>4.58</td>\n",
       "      <td>4.58</td>\n",
       "      <td>0.0</td>\n",
       "      <td>2012-01-01 10:05:00+00:00</td>\n",
       "    </tr>\n",
       "  </tbody>\n",
       "</table>\n",
       "</div>"
      ],
      "text/plain": [
       "      Timestamp  Open  High   Low  Close  Volume                   datetime\n",
       "0  1.325412e+09  4.58  4.58  4.58   4.58     0.0  2012-01-01 10:01:00+00:00\n",
       "1  1.325412e+09  4.58  4.58  4.58   4.58     0.0  2012-01-01 10:02:00+00:00\n",
       "2  1.325412e+09  4.58  4.58  4.58   4.58     0.0  2012-01-01 10:03:00+00:00\n",
       "3  1.325412e+09  4.58  4.58  4.58   4.58     0.0  2012-01-01 10:04:00+00:00\n",
       "4  1.325412e+09  4.58  4.58  4.58   4.58     0.0  2012-01-01 10:05:00+00:00"
      ]
     },
     "execution_count": 3,
     "metadata": {},
     "output_type": "execute_result"
    }
   ],
   "source": [
    "df = pd.read_csv('btcusd_1-min_data.csv')\n",
    "df.head()"
   ]
  },
  {
   "cell_type": "code",
   "execution_count": 6,
   "metadata": {},
   "outputs": [
    {
     "name": "stdout",
     "output_type": "stream",
     "text": [
      "<class 'pandas.core.frame.DataFrame'>\n",
      "RangeIndex: 6944800 entries, 0 to 6944799\n",
      "Data columns (total 7 columns):\n",
      " #   Column     Dtype  \n",
      "---  ------     -----  \n",
      " 0   Timestamp  float64\n",
      " 1   Open       float64\n",
      " 2   High       float64\n",
      " 3   Low        float64\n",
      " 4   Close      float64\n",
      " 5   Volume     float64\n",
      " 6   datetime   object \n",
      "dtypes: float64(6), object(1)\n",
      "memory usage: 370.9+ MB\n"
     ]
    }
   ],
   "source": [
    "df.info()"
   ]
  },
  {
   "cell_type": "code",
   "execution_count": 7,
   "metadata": {},
   "outputs": [
    {
     "name": "stdout",
     "output_type": "stream",
     "text": [
      "            Timestamp      Open      High       Low     Close    Volume  \\\n",
      "443279   1.352009e+09     10.49     10.49     10.49     10.49  0.000000   \n",
      "443280   1.352009e+09     10.49     10.49     10.49     10.49  0.000000   \n",
      "443281   1.352009e+09     10.49     10.49     10.49     10.49  0.000000   \n",
      "443282   1.352009e+09     10.49     10.49     10.49     10.49  0.000000   \n",
      "443283   1.352009e+09     10.49     10.49     10.49     10.49  0.260338   \n",
      "...               ...       ...       ...       ...       ...       ...   \n",
      "6944795  1.742169e+09  82554.00  82554.00  82554.00  82554.00  0.072000   \n",
      "6944796  1.742169e+09  82584.00  82615.00  82584.00  82615.00  0.194670   \n",
      "6944797  1.742169e+09  82555.00  82555.00  82555.00  82555.00  0.002680   \n",
      "6944798  1.742170e+09  82555.00  82555.00  82555.00  82555.00  0.000000   \n",
      "6944799  1.742170e+09  82569.00  82569.00  82566.00  82566.00  0.003019   \n",
      "\n",
      "        datetime  \n",
      "443279       NaN  \n",
      "443280       NaN  \n",
      "443281       NaN  \n",
      "443282       NaN  \n",
      "443283       NaN  \n",
      "...          ...  \n",
      "6944795      NaN  \n",
      "6944796      NaN  \n",
      "6944797      NaN  \n",
      "6944798      NaN  \n",
      "6944799      NaN  \n",
      "\n",
      "[162520 rows x 7 columns]\n"
     ]
    }
   ],
   "source": [
    "missing_rows = df[df.isna().any(axis=1)]\n",
    "print(missing_rows)"
   ]
  },
  {
   "cell_type": "code",
   "execution_count": 8,
   "metadata": {},
   "outputs": [
    {
     "name": "stdout",
     "output_type": "stream",
     "text": [
      "['datetime']\n"
     ]
    }
   ],
   "source": [
    "columns_with_nan = df.columns[df.isna().any()].tolist()\n",
    "print(columns_with_nan)"
   ]
  },
  {
   "cell_type": "code",
   "execution_count": 9,
   "metadata": {},
   "outputs": [
    {
     "name": "stdout",
     "output_type": "stream",
     "text": [
      "Timestamp    0\n",
      "Open         0\n",
      "High         0\n",
      "Low          0\n",
      "Close        0\n",
      "Volume       0\n",
      "datetime     0\n",
      "dtype: int64\n"
     ]
    }
   ],
   "source": [
    "df = df.dropna()\n",
    "df = df.reset_index(drop=True)\n",
    "print(df.isna().sum())"
   ]
  },
  {
   "cell_type": "code",
   "execution_count": 10,
   "metadata": {},
   "outputs": [],
   "source": [
    "if df['datetime'].astype(str).str.endswith('+00:00').all():\n",
    "    df['datetime'] = df['datetime'].str[:-6]\n",
    "else:\n",
    "    print('None')"
   ]
  },
  {
   "cell_type": "code",
   "execution_count": 11,
   "metadata": {},
   "outputs": [],
   "source": [
    "df[\"datetime\"] = pd.to_datetime(df[\"datetime\"])"
   ]
  },
  {
   "cell_type": "code",
   "execution_count": 12,
   "metadata": {},
   "outputs": [
    {
     "data": {
      "text/plain": [
       "0         2012-01-01 10:01:00\n",
       "1         2012-01-01 10:02:00\n",
       "2         2012-01-01 10:03:00\n",
       "3         2012-01-01 10:04:00\n",
       "4         2012-01-01 10:05:00\n",
       "                  ...        \n",
       "6782275   2025-03-14 23:56:00\n",
       "6782276   2025-03-14 23:57:00\n",
       "6782277   2025-03-14 23:58:00\n",
       "6782278   2025-03-14 23:59:00\n",
       "6782279   2025-03-15 00:00:00\n",
       "Name: datetime, Length: 6782280, dtype: datetime64[ns]"
      ]
     },
     "execution_count": 12,
     "metadata": {},
     "output_type": "execute_result"
    }
   ],
   "source": [
    "df['datetime']"
   ]
  },
  {
   "cell_type": "code",
   "execution_count": 13,
   "metadata": {},
   "outputs": [],
   "source": [
    "def generate_timestamps(n, start=1700000000, freq=60):\n",
    "    return np.arange(start, start + n * freq, freq)\n",
    "\n",
    "def generate_price_series(n, start_price=100.0, ar=[1, -0.5], ma=[1], sigma=2.0):\n",
    "    ar_params = np.r_[1, -np.array(ar)]\n",
    "    ma_params = np.r_[1, ma]\n",
    "    arma_process = ArmaProcess(ar_params, ma_params)\n",
    "    return start_price + np.cumsum(arma_process.generate_sample(nsample=n, scale=sigma))\n",
    "\n",
    "n = 100000\n",
    "\n",
    "timestamps = generate_timestamps(n)\n",
    "open_prices = generate_price_series(n)\n",
    "high_prices = open_prices + np.abs(np.random.normal(2, 0.5, n))\n",
    "low_prices = open_prices - np.abs(np.random.normal(2, 0.5, n))\n",
    "close_prices = generate_price_series(n, start_price=open_prices[-1])\n",
    "volume = np.random.randint(100, 10000, n)\n",
    "datetime_values = pd.to_datetime(timestamps, unit='s')\n",
    "\n",
    "df_synthetic = pd.DataFrame({\n",
    "    'Timestamp': timestamps,\n",
    "    'Open': open_prices,\n",
    "    'High': high_prices,\n",
    "    'Low': low_prices,\n",
    "    'Close': close_prices,\n",
    "    'Volume': volume,\n",
    "    'datetime': datetime_values\n",
    "})"
   ]
  },
  {
   "cell_type": "code",
   "execution_count": 14,
   "metadata": {},
   "outputs": [
    {
     "name": "stdout",
     "output_type": "stream",
     "text": [
      "<class 'pandas.core.frame.DataFrame'>\n",
      "RangeIndex: 100000 entries, 0 to 99999\n",
      "Data columns (total 7 columns):\n",
      " #   Column     Non-Null Count   Dtype         \n",
      "---  ------     --------------   -----         \n",
      " 0   Timestamp  100000 non-null  int64         \n",
      " 1   Open       100000 non-null  float64       \n",
      " 2   High       100000 non-null  float64       \n",
      " 3   Low        100000 non-null  float64       \n",
      " 4   Close      100000 non-null  float64       \n",
      " 5   Volume     100000 non-null  int64         \n",
      " 6   datetime   100000 non-null  datetime64[ns]\n",
      "dtypes: datetime64[ns](1), float64(4), int64(2)\n",
      "memory usage: 5.3 MB\n"
     ]
    }
   ],
   "source": [
    "df_synthetic.info()"
   ]
  },
  {
   "cell_type": "code",
   "execution_count": 15,
   "metadata": {},
   "outputs": [
    {
     "data": {
      "text/html": [
       "<div>\n",
       "<style scoped>\n",
       "    .dataframe tbody tr th:only-of-type {\n",
       "        vertical-align: middle;\n",
       "    }\n",
       "\n",
       "    .dataframe tbody tr th {\n",
       "        vertical-align: top;\n",
       "    }\n",
       "\n",
       "    .dataframe thead th {\n",
       "        text-align: right;\n",
       "    }\n",
       "</style>\n",
       "<table border=\"1\" class=\"dataframe\">\n",
       "  <thead>\n",
       "    <tr style=\"text-align: right;\">\n",
       "      <th></th>\n",
       "      <th>Timestamp</th>\n",
       "      <th>Open</th>\n",
       "      <th>High</th>\n",
       "      <th>Low</th>\n",
       "      <th>Close</th>\n",
       "      <th>Volume</th>\n",
       "      <th>datetime</th>\n",
       "    </tr>\n",
       "  </thead>\n",
       "  <tbody>\n",
       "    <tr>\n",
       "      <th>0</th>\n",
       "      <td>1700000000</td>\n",
       "      <td>96.549333</td>\n",
       "      <td>99.099021</td>\n",
       "      <td>94.686044</td>\n",
       "      <td>1241.758948</td>\n",
       "      <td>4059</td>\n",
       "      <td>2023-11-14 22:13:20</td>\n",
       "    </tr>\n",
       "    <tr>\n",
       "      <th>1</th>\n",
       "      <td>1700000060</td>\n",
       "      <td>85.761955</td>\n",
       "      <td>87.634180</td>\n",
       "      <td>83.826519</td>\n",
       "      <td>1241.833346</td>\n",
       "      <td>5715</td>\n",
       "      <td>2023-11-14 22:14:20</td>\n",
       "    </tr>\n",
       "    <tr>\n",
       "      <th>2</th>\n",
       "      <td>1700000120</td>\n",
       "      <td>71.400127</td>\n",
       "      <td>73.881590</td>\n",
       "      <td>69.919560</td>\n",
       "      <td>1240.769445</td>\n",
       "      <td>3469</td>\n",
       "      <td>2023-11-14 22:15:20</td>\n",
       "    </tr>\n",
       "    <tr>\n",
       "      <th>3</th>\n",
       "      <td>1700000180</td>\n",
       "      <td>61.633888</td>\n",
       "      <td>63.340438</td>\n",
       "      <td>59.879367</td>\n",
       "      <td>1238.191881</td>\n",
       "      <td>9760</td>\n",
       "      <td>2023-11-14 22:16:20</td>\n",
       "    </tr>\n",
       "    <tr>\n",
       "      <th>4</th>\n",
       "      <td>1700000240</td>\n",
       "      <td>58.696808</td>\n",
       "      <td>60.787739</td>\n",
       "      <td>57.272100</td>\n",
       "      <td>1234.310779</td>\n",
       "      <td>3647</td>\n",
       "      <td>2023-11-14 22:17:20</td>\n",
       "    </tr>\n",
       "  </tbody>\n",
       "</table>\n",
       "</div>"
      ],
      "text/plain": [
       "    Timestamp       Open       High        Low        Close  Volume  \\\n",
       "0  1700000000  96.549333  99.099021  94.686044  1241.758948    4059   \n",
       "1  1700000060  85.761955  87.634180  83.826519  1241.833346    5715   \n",
       "2  1700000120  71.400127  73.881590  69.919560  1240.769445    3469   \n",
       "3  1700000180  61.633888  63.340438  59.879367  1238.191881    9760   \n",
       "4  1700000240  58.696808  60.787739  57.272100  1234.310779    3647   \n",
       "\n",
       "             datetime  \n",
       "0 2023-11-14 22:13:20  \n",
       "1 2023-11-14 22:14:20  \n",
       "2 2023-11-14 22:15:20  \n",
       "3 2023-11-14 22:16:20  \n",
       "4 2023-11-14 22:17:20  "
      ]
     },
     "execution_count": 15,
     "metadata": {},
     "output_type": "execute_result"
    }
   ],
   "source": [
    "df_synthetic.head()"
   ]
  }
 ],
 "metadata": {
  "kernelspec": {
   "display_name": ".venv",
   "language": "python",
   "name": "python3"
  },
  "language_info": {
   "codemirror_mode": {
    "name": "ipython",
    "version": 3
   },
   "file_extension": ".py",
   "mimetype": "text/x-python",
   "name": "python",
   "nbconvert_exporter": "python",
   "pygments_lexer": "ipython3",
   "version": "3.13.1"
  }
 },
 "nbformat": 4,
 "nbformat_minor": 2
}
