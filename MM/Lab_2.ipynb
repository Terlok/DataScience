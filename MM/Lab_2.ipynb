{
 "cells": [
  {
   "cell_type": "markdown",
   "metadata": {},
   "source": [
    "# Лабораторна робота 2. Симплекс метод\n",
    "## 5 варіант\n",
    "$z=3x_1+0x_2+2x_3+0x_4+0x_5-6x_6(\\max)$ \\\n",
    "$\\begin{cases}\n",
    "    2x_1+x_2-3x_3+0x_4+0x_5+6x_6=18 \\\\\n",
    "    -3x_1+0x_2+2x_3+x_4+0x_5-2x_6=24 \\\\\n",
    "    x_1+0x_2+3x_3+0x_4+x_5-4x_6=36 \\\\\n",
    "    x_j\\geqslant0,\\:j=\\overline{1,6}\n",
    "\\end{cases}$"
   ]
  },
  {
   "cell_type": "code",
   "execution_count": 25,
   "metadata": {},
   "outputs": [],
   "source": [
    "import numpy as np\n",
    "from scipy.optimize import linprog"
   ]
  },
  {
   "cell_type": "code",
   "execution_count": 26,
   "metadata": {},
   "outputs": [],
   "source": [
    "c = np.array([-3, 0, -2, 0, 0, 6])\n",
    "b = np.array([18, 24, 36])\n",
    "a = np.array([[2, 1, -3, 0, 0, 6],\n",
    "       [-3, 0, 2, 1, 0, -2],\n",
    "       [1, 0, 3, 0, 1, -4]])"
   ]
  },
  {
   "cell_type": "code",
   "execution_count": 27,
   "metadata": {},
   "outputs": [
    {
     "name": "stderr",
     "output_type": "stream",
     "text": [
      "C:\\Users\\alexi\\AppData\\Local\\Temp\\ipykernel_8916\\1995534822.py:1: DeprecationWarning: `method='simplex'` is deprecated and will be removed in SciPy 1.11.0. Please use one of the HiGHS solvers (e.g. `method='highs'`) in new code.\n",
      "  res = linprog(c, A_ub=a, b_ub=b,  bounds=(0, None), method='simplex')\n"
     ]
    }
   ],
   "source": [
    "res = linprog(c, A_ub=a, b_ub=b,  bounds=(0, None), method='simplex')"
   ]
  },
  {
   "cell_type": "code",
   "execution_count": 28,
   "metadata": {},
   "outputs": [
    {
     "name": "stdout",
     "output_type": "stream",
     "text": [
      "66.0\n"
     ]
    }
   ],
   "source": [
    "print(-res.fun)"
   ]
  }
 ],
 "metadata": {
  "kernelspec": {
   "display_name": "Python 3",
   "language": "python",
   "name": "python3"
  },
  "language_info": {
   "codemirror_mode": {
    "name": "ipython",
    "version": 3
   },
   "file_extension": ".py",
   "mimetype": "text/x-python",
   "name": "python",
   "nbconvert_exporter": "python",
   "pygments_lexer": "ipython3",
   "version": "3.10.8"
  }
 },
 "nbformat": 4,
 "nbformat_minor": 2
}
