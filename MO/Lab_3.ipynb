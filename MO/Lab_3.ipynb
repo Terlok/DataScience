{
 "cells": [
  {
   "cell_type": "markdown",
   "metadata": {},
   "source": [
    "# Лабораторна робота 3. Метод Монте-Карло\n",
    "## 5 варіант\n",
    "![variant_5](var_5.png)"
   ]
  },
  {
   "cell_type": "markdown",
   "metadata": {},
   "source": [
    "##### Порахуємо значення площи ручками.\n",
    "$S_{\\bigtriangleup}=\\dfrac{1}{2}\\cdot4=2$. Оскільки трукутників два $2S_{\\bigtriangleup}=4$ \\\n",
    "$S_{\\Box}=2^2=4$ \\\n",
    "$S_{\\Box}=1^1=1$ \\\n",
    "Отже площа зафарбованої фігури дорівнює: \\\n",
    "$S=16-4-4-1=7$"
   ]
  },
  {
   "cell_type": "markdown",
   "metadata": {},
   "source": [
    "##### Розв'яжемо задачу методом Монте-Карло:"
   ]
  },
  {
   "cell_type": "code",
   "execution_count": 204,
   "metadata": {},
   "outputs": [],
   "source": [
    "import matplotlib.pyplot as plt\n",
    "import random"
   ]
  },
  {
   "cell_type": "code",
   "execution_count": 205,
   "metadata": {},
   "outputs": [],
   "source": [
    "def triangle1(N, X, Y, x_points, y_points):\n",
    "    point_inside = 0\n",
    "    for _ in range(N):\n",
    "        x, y = random.uniform(X[0], X[1]), random.uniform(Y[0], Y[1])\n",
    "        if y < 4*x:\n",
    "            point_inside += 1 \n",
    "            x_points.append(x)\n",
    "            y_points.append(y)\n",
    "    return point_inside\n",
    "\n",
    "def square(N, X, Y, x_points, y_points):\n",
    "    point_inside = 0\n",
    "    for _ in range(N):\n",
    "        x, y = random.uniform(X[0], X[1]), random.uniform(Y[0], Y[1])\n",
    "        if y < 2 and y > 1:\n",
    "            point_inside += 1 \n",
    "            x_points.append(x)\n",
    "            y_points.append(y)\n",
    "    return point_inside\n",
    "\n",
    "def rectangle(N, X, Y, x_points, y_points):\n",
    "    point_inside = 0\n",
    "    for _ in range(N):\n",
    "        x, y = random.uniform(X[0], X[1]), random.uniform(Y[0], Y[1])\n",
    "        if y < 2 and y > 0:\n",
    "            point_inside += 1 \n",
    "            x_points.append(x)\n",
    "            y_points.append(y)\n",
    "    return point_inside\n",
    "\n",
    "def triangle2(N, X, Y, x_points, y_points):\n",
    "    point_inside = 0\n",
    "    for _ in range(N):\n",
    "        x, y = random.uniform(X[0], X[1]), random.uniform(Y[0], Y[1])\n",
    "        if y < (-4)*x+16:\n",
    "            point_inside += 1 \n",
    "            x_points.append(x)\n",
    "            y_points.append(y)\n",
    "    return point_inside"
   ]
  },
  {
   "cell_type": "code",
   "execution_count": 206,
   "metadata": {},
   "outputs": [],
   "source": [
    "def monte_carlo_method(N:int, X:list, Y:list, x_points:list, y_points:list, object:str)->int:\n",
    "    match object:\n",
    "        case 'triangle1':\n",
    "            return triangle1(N, X, Y, x_points, y_points)\n",
    "        case 'square':\n",
    "            return square(N, X, Y, x_points, y_points)\n",
    "        case 'rectangle':\n",
    "            return rectangle(N, X, Y, x_points, y_points)\n",
    "        case 'triangle2':\n",
    "            return triangle2(N, X, Y, x_points, y_points)"
   ]
  },
  {
   "cell_type": "code",
   "execution_count": 207,
   "metadata": {},
   "outputs": [],
   "source": [
    "N = 100000\n",
    "x_points = []\n",
    "y_points = []"
   ]
  },
  {
   "cell_type": "code",
   "execution_count": 208,
   "metadata": {},
   "outputs": [
    {
     "data": {
      "text/plain": [
       "[2.00416, 1.0, 2.0, 1.9934]"
      ]
     },
     "execution_count": 208,
     "metadata": {},
     "output_type": "execute_result"
    }
   ],
   "source": [
    "area = [(monte_carlo_method(N, [0, 1], [0, 4], x_points, y_points, 'triangle1')/N)*4,\n",
    "(monte_carlo_method(N, [1, 2], [1, 2], x_points, y_points, 'square')/N)*1,\n",
    "(monte_carlo_method(N, [2, 3], [0, 2], x_points, y_points, 'rectangle')/N)*2,\n",
    "(monte_carlo_method(N, [3, 4], [0, 4], x_points, y_points, 'triangle2')/N)*4]\n",
    "area"
   ]
  },
  {
   "cell_type": "code",
   "execution_count": 209,
   "metadata": {},
   "outputs": [
    {
     "name": "stdout",
     "output_type": "stream",
     "text": [
      "Total area: 6.997560000000001\n"
     ]
    }
   ],
   "source": [
    "print(f'Total area: {sum(area)}')"
   ]
  },
  {
   "cell_type": "code",
   "execution_count": 210,
   "metadata": {},
   "outputs": [
    {
     "data": {
      "image/png": "[encoded data removed]",
      "text/plain": [
       "<Figure size 640x480 with 1 Axes>"
      ]
     },
     "metadata": {},
     "output_type": "display_data"
    }
   ],
   "source": [
    "plt.scatter(x_points, y_points, color='green', marker='o', s=1) \n",
    "plt.title('Graph by points')\n",
    "plt.grid(True)\n",
    "\n",
    "plt.show()"
   ]
  }
 ],
 "metadata": {
  "kernelspec": {
   "display_name": "Python 3",
   "language": "python",
   "name": "python3"
  },
  "language_info": {
   "codemirror_mode": {
    "name": "ipython",
    "version": 3
   },
   "file_extension": ".py",
   "mimetype": "text/x-python",
   "name": "python",
   "nbconvert_exporter": "python",
   "pygments_lexer": "ipython3",
   "version": "3.10.8"
  }
 },
 "nbformat": 4,
 "nbformat_minor": 2
}
