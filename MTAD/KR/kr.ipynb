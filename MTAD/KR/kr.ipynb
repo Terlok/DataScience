{
 "cells": [
  {
   "cell_type": "markdown",
   "metadata": {},
   "source": [
    "# Control work #1\n",
    "\n",
    "---\n",
    "\n",
    "**FI-12 Zavalii Oleksandr**  \n",
    "**Variant 30**\n"
   ]
  },
  {
   "cell_type": "markdown",
   "metadata": {},
   "source": [
    "### Task #1. \n",
    "\n",
    "| X1 | X2        | X3 | X4    | X5   |\n",
    "|----|-----------|----|-------|------|\n",
    "| 3  | 985000    | 3  | 53    | 1920 |\n",
    "| 3  | 429000    | 2  | 46,69 | 2021 |\n",
    "| 4  | 372154    | 3  | 50,98 | 2021 |\n",
    "| 5  | 546910    | 3  | 60,1  | 2021 |\n",
    "| 1  | 302111,2  | 1  | 29,33 | 2021 |\n",
    "| 1  | 1250000   | 3  | 94,83 | 2007 |\n"
   ]
  },
  {
   "cell_type": "code",
   "execution_count": 25,
   "metadata": {},
   "outputs": [],
   "source": [
    "import numpy as np\n",
    "import pandas as pd\n",
    "from scipy.cluster.hierarchy import dendrogram, linkage\n",
    "import matplotlib.pyplot as plt\n",
    "from sklearn.neighbors import KNeighborsClassifier"
   ]
  },
  {
   "cell_type": "code",
   "execution_count": 26,
   "metadata": {},
   "outputs": [],
   "source": [
    "data = {\n",
    "    'X1': [3, 3, 4, 5, 1, 1],\n",
    "    'X2': [985000, 429000, 372154, 546910, 302111.2, 1250000],\n",
    "    'X3': [3, 2, 3, 3, 1, 3],\n",
    "    'X4': [53, 46.69, 50.98, 60.1, 29.33, 94.83],\n",
    "    'X5': [1920, 2021, 2021, 2021, 2021, 2007]\n",
    "}\n",
    "\n",
    "df = pd.DataFrame(data)"
   ]
  },
  {
   "cell_type": "code",
   "execution_count": 27,
   "metadata": {},
   "outputs": [
    {
     "data": {
      "text/html": [
       "<div>\n",
       "<style scoped>\n",
       "    .dataframe tbody tr th:only-of-type {\n",
       "        vertical-align: middle;\n",
       "    }\n",
       "\n",
       "    .dataframe tbody tr th {\n",
       "        vertical-align: top;\n",
       "    }\n",
       "\n",
       "    .dataframe thead th {\n",
       "        text-align: right;\n",
       "    }\n",
       "</style>\n",
       "<table border=\"1\" class=\"dataframe\">\n",
       "  <thead>\n",
       "    <tr style=\"text-align: right;\">\n",
       "      <th></th>\n",
       "      <th>X1</th>\n",
       "      <th>X2</th>\n",
       "      <th>X3</th>\n",
       "      <th>X4</th>\n",
       "      <th>X5</th>\n",
       "    </tr>\n",
       "  </thead>\n",
       "  <tbody>\n",
       "    <tr>\n",
       "      <th>0</th>\n",
       "      <td>3</td>\n",
       "      <td>985000.0</td>\n",
       "      <td>3</td>\n",
       "      <td>53.00</td>\n",
       "      <td>1920</td>\n",
       "    </tr>\n",
       "    <tr>\n",
       "      <th>1</th>\n",
       "      <td>3</td>\n",
       "      <td>429000.0</td>\n",
       "      <td>2</td>\n",
       "      <td>46.69</td>\n",
       "      <td>2021</td>\n",
       "    </tr>\n",
       "    <tr>\n",
       "      <th>2</th>\n",
       "      <td>4</td>\n",
       "      <td>372154.0</td>\n",
       "      <td>3</td>\n",
       "      <td>50.98</td>\n",
       "      <td>2021</td>\n",
       "    </tr>\n",
       "    <tr>\n",
       "      <th>3</th>\n",
       "      <td>5</td>\n",
       "      <td>546910.0</td>\n",
       "      <td>3</td>\n",
       "      <td>60.10</td>\n",
       "      <td>2021</td>\n",
       "    </tr>\n",
       "    <tr>\n",
       "      <th>4</th>\n",
       "      <td>1</td>\n",
       "      <td>302111.2</td>\n",
       "      <td>1</td>\n",
       "      <td>29.33</td>\n",
       "      <td>2021</td>\n",
       "    </tr>\n",
       "    <tr>\n",
       "      <th>5</th>\n",
       "      <td>1</td>\n",
       "      <td>1250000.0</td>\n",
       "      <td>3</td>\n",
       "      <td>94.83</td>\n",
       "      <td>2007</td>\n",
       "    </tr>\n",
       "  </tbody>\n",
       "</table>\n",
       "</div>"
      ],
      "text/plain": [
       "   X1         X2  X3     X4    X5\n",
       "0   3   985000.0   3  53.00  1920\n",
       "1   3   429000.0   2  46.69  2021\n",
       "2   4   372154.0   3  50.98  2021\n",
       "3   5   546910.0   3  60.10  2021\n",
       "4   1   302111.2   1  29.33  2021\n",
       "5   1  1250000.0   3  94.83  2007"
      ]
     },
     "execution_count": 27,
     "metadata": {},
     "output_type": "execute_result"
    }
   ],
   "source": [
    "df"
   ]
  },
  {
   "cell_type": "markdown",
   "metadata": {},
   "source": [
    "For the data from the table, we perform hierarchical clustering using the Euclidean metric. \\\n",
    "We draw a dendogram."
   ]
  },
  {
   "cell_type": "code",
   "execution_count": 28,
   "metadata": {},
   "outputs": [
    {
     "data": {
      "image/png": "[encoded data removed]",
      "text/plain": [
       "<Figure size 640x480 with 1 Axes>"
      ]
     },
     "metadata": {},
     "output_type": "display_data"
    }
   ],
   "source": [
    "linked = linkage(df, method='single', metric='euclidean')\n",
    "\n",
    "dendrogram(linked,\n",
    "           orientation='top',\n",
    "           labels=df.index.tolist(),\n",
    "           distance_sort='descending',\n",
    "           show_leaf_counts=True)\n",
    "\n",
    "plt.title('Hierarchical Clustering Dendrogram')\n",
    "plt.xlabel('Sample Index')\n",
    "plt.ylabel('Distance')\n",
    "plt.show()"
   ]
  },
  {
   "cell_type": "markdown",
   "metadata": {},
   "source": [
    "### Task #2\n",
    "##### Table 1\n",
    "| class | X1   | X2 | X3 | X4   |\n",
    "|------|------|----|----|------|\n",
    "| 4    | 372  | 3  | 50 | 2021 |\n",
    "| 5    | 547  | 3  | 60 | 2021 |\n",
    "| 1    | 302  | 1  | 29 | 2021 |\n",
    "| 1    | 1250 | 3  | 94 | 2007 |\n",
    "| 3    | 985  | 3  | 53 | 1920 |"
   ]
  },
  {
   "cell_type": "markdown",
   "metadata": {},
   "source": [
    "##### Table 2\n",
    "| class | 429 | 2 | 46 | 2021 |\n",
    "|-------|-----|---|----|------|"
   ]
  },
  {
   "cell_type": "code",
   "execution_count": 29,
   "metadata": {},
   "outputs": [
    {
     "name": "stdout",
     "output_type": "stream",
     "text": [
      "Defined class: 1\n"
     ]
    }
   ],
   "source": [
    "X_train = np.array([\n",
    "    [372, 3, 50, 2021],\n",
    "    [547, 3, 60, 2021],\n",
    "    [302, 1, 29, 2021],\n",
    "    [1250, 3, 94, 2007],\n",
    "    [985, 3, 53, 1920]\n",
    "])\n",
    "\n",
    "y_train = np.array([4, 5, 1, 1, 3])\n",
    "\n",
    "X_test = np.array([[429, 2, 46, 2021]])\n",
    "\n",
    "knn_model = KNeighborsClassifier(n_neighbors=3, metric='euclidean')\n",
    "\n",
    "knn_model.fit(X_train, y_train)\n",
    "\n",
    "predicted_class = knn_model.predict(X_test)\n",
    "\n",
    "print(\"Defined class:\", predicted_class[0])"
   ]
  }
 ],
 "metadata": {
  "kernelspec": {
   "display_name": "Python 3",
   "language": "python",
   "name": "python3"
  },
  "language_info": {
   "codemirror_mode": {
    "name": "ipython",
    "version": 3
   },
   "file_extension": ".py",
   "mimetype": "text/x-python",
   "name": "python",
   "nbconvert_exporter": "python",
   "pygments_lexer": "ipython3",
   "version": "3.10.8"
  }
 },
 "nbformat": 4,
 "nbformat_minor": 2
}
